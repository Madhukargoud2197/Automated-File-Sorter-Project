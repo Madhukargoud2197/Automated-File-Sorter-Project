{
 "cells": [
  {
   "cell_type": "code",
   "execution_count": 2,
   "id": "e18ff70e-db87-4e46-8a77-76d963f65035",
   "metadata": {},
   "outputs": [],
   "source": [
    "import os, shutil"
   ]
  },
  {
   "cell_type": "code",
   "execution_count": 31,
   "id": "b7b50382-65a1-44e7-a2a8-e81c01ef4e0e",
   "metadata": {},
   "outputs": [],
   "source": [
    "path= r\"D:/Python Project Folder/\"\n",
    "\n",
    "#Here we need to change these backslashes to forward for the folders that we are about to create actually get created in the folder.\n",
    "# Also include an forward slash at the end after copying the path, this will create the files where we need only then."
   ]
  },
  {
   "cell_type": "code",
   "execution_count": 32,
   "id": "e335d61e-3194-4335-89ee-1eea0e2d79da",
   "metadata": {},
   "outputs": [
    {
     "data": {
      "text/plain": [
       "['docx files',\n",
       " 'Ecological Anthropology final.docx',\n",
       " 'jpg files',\n",
       " 'pdf files',\n",
       " 'Speed Maths Class 2 Practice Sheet (460 Questions).pdf']"
      ]
     },
     "execution_count": 32,
     "metadata": {},
     "output_type": "execute_result"
    }
   ],
   "source": [
    "file_name= os.listdir(path)\n",
    "file_name"
   ]
  },
  {
   "cell_type": "code",
   "execution_count": 33,
   "id": "8a0e59e6-fd52-495d-97a3-ac3ee72d9467",
   "metadata": {},
   "outputs": [],
   "source": [
    "# Now we have the path, so we check if we have any folders in the path to sort these files into the folders,\n",
    "#if we dont have any paths for folders we need to create them."
   ]
  },
  {
   "cell_type": "code",
   "execution_count": 34,
   "id": "d0120b54-35d9-437c-8036-2071a2c41466",
   "metadata": {},
   "outputs": [],
   "source": [
    "folders_names= [\"jpg files\",\"pdf files\",\"docx files\"]\n",
    "# Now check if path exists and loop against these folders\n",
    "for loop in range(0,3):\n",
    "    os.path.exists(path + folders_names[loop])\n",
    "\n",
    "#This checks if that path exists or not, when not, lets create that path"
   ]
  },
  {
   "cell_type": "code",
   "execution_count": 35,
   "id": "26732148-f002-4a12-bf02-e5720e341c59",
   "metadata": {},
   "outputs": [],
   "source": [
    "#Lets create an list of folders we want to create.\n",
    "folders_names= [\"jpg files\",\"pdf files\",\"docx files\"]\n",
    "\n",
    "#Lets create this folders and create an path where we need to create them.\n",
    "for loop in range(0,3):\n",
    "    if not os.path.exists(path + folders_names[loop]):\n",
    "        os.makedirs(path + folders_names[loop])\n",
    "\n",
    "# Now we need to write script which will understand the type of files and need to sort them and place them in there respective folders.\n"
   ]
  },
  {
   "cell_type": "code",
   "execution_count": 39,
   "id": "dae92b30-6216-4839-a381-7425f38119ff",
   "metadata": {},
   "outputs": [],
   "source": [
    "# Lets check for one type of file first \n",
    "for file in file_name:\n",
    "    if '.jpg' in file and not os.path.exists(path + \"jpg files/\" + file):\n",
    "        shutil.move(path + file, path + \"jpg files/\" + file )\n",
    "\n",
    "# Hurry!!, its sorted, now lets create for everthing.\n"
   ]
  },
  {
   "cell_type": "code",
   "execution_count": 40,
   "id": "8ab3488f-8641-41c4-8fbd-8fd148c7e892",
   "metadata": {},
   "outputs": [],
   "source": [
    "for file in file_name:\n",
    "    if '.jpg' in file and not os.path.exists(path + \"jpg files/\" + file):\n",
    "        shutil.move(path + file, path + \"jpg files/\" + file )\n",
    "    elif '.docx' in file and not os.path.exists(path + \"docx files/\" + file):\n",
    "        shutil.move(path + file, path + \"docx files/\" + file )\n",
    "    elif '.pdf' in file and not os.path.exists(path + \"pdf files/\" + file):\n",
    "        shutil.move(path + file, path + \"pdf files/\" + file )"
   ]
  },
  {
   "cell_type": "markdown",
   "id": "1cff7929-99ba-4173-b975-d115b2941be9",
   "metadata": {},
   "source": [
    "Lets write down everything clearly now and clear all the clutter."
   ]
  },
  {
   "cell_type": "code",
   "execution_count": 51,
   "id": "35a87460-a070-40f3-a10b-2aba28e125f5",
   "metadata": {},
   "outputs": [],
   "source": [
    "import os, shutil"
   ]
  },
  {
   "cell_type": "code",
   "execution_count": 55,
   "id": "d21eb5c1-4524-4f05-b47b-002a8cc36e2b",
   "metadata": {},
   "outputs": [],
   "source": [
    "path= r\"D:/Python Project Folder/\""
   ]
  },
  {
   "cell_type": "code",
   "execution_count": 56,
   "id": "1a95d07f-2c24-4843-a05e-ac7e062d5b23",
   "metadata": {},
   "outputs": [],
   "source": [
    "file_name= os.listdir(path)"
   ]
  },
  {
   "cell_type": "code",
   "execution_count": 57,
   "id": "36864eb7-783f-4a8c-8a4e-4d4e4751d5c2",
   "metadata": {},
   "outputs": [],
   "source": [
    "folders_names= [\"jpg files\",\"pdf files\",\"docx files\"]\n",
    "\n",
    "for loop in range(0,3):\n",
    "    if not os.path.exists(path + folders_names[loop]):\n",
    "        os.makedirs(path + folders_names[loop])\n",
    "\n",
    "for file in file_name:\n",
    "    if '.jpg' in file and not os.path.exists(path + \"jpg files/\" + file):\n",
    "        shutil.move(path + file, path + \"jpg files/\" + file )\n",
    "    elif '.docx' in file and not os.path.exists(path + \"docx files/\" + file):\n",
    "        shutil.move(path + file, path + \"docx files/\" + file )\n",
    "    elif '.pdf' in file and not os.path.exists(path + \"pdf files/\" + file):\n",
    "        shutil.move(path + file, path + \"pdf files/\" + file )"
   ]
  },
  {
   "cell_type": "markdown",
   "id": "216678a0-af98-4dfc-a6b1-25ec6e3572ee",
   "metadata": {},
   "source": [
    "And that looks perfect"
   ]
  }
 ],
 "metadata": {
  "kernelspec": {
   "display_name": "Python [conda env:base] *",
   "language": "python",
   "name": "conda-base-py"
  },
  "language_info": {
   "codemirror_mode": {
    "name": "ipython",
    "version": 3
   },
   "file_extension": ".py",
   "mimetype": "text/x-python",
   "name": "python",
   "nbconvert_exporter": "python",
   "pygments_lexer": "ipython3",
   "version": "3.12.7"
  }
 },
 "nbformat": 4,
 "nbformat_minor": 5
}
